{
 "cells": [
  {
   "cell_type": "code",
   "execution_count": null,
   "id": "f61f237b-aa98-49ec-8910-bfb941a4bf02",
   "metadata": {},
   "outputs": [],
   "source": [
    "using Revise, PhyloTools, TreeTools, DCAUtils, JLD2, PyPlot, Statistics, DelimitedFiles\n",
    "\n",
    "nat_msa  = read_fasta_alignment(\"../Gen.jl/data/alignments/natural/DBD_alignment.uniref90.cov80.a2m\", 0.9);\n",
    "#nat_msa = read_fasta_alignment(\"../data_Anc/DBD_cleaned.fasta\", 0.9);\n",
    "w = compute_weights(nat_msa, 22, 0.2)[1];\n",
    "@load \"../data_Genie/pars_dbd.jld2\"; h = h_dbd; J = J_dbd;\n",
    "@load \"../data_Anc/3_start_seq_and_sweeps4DBD_ASR.jld2\"\n",
    "\n",
    "\n",
    "q = 21; L =76; idx = 3;\n",
    "#tree_file = \"../data_Anc/DBDtree_collapsed_noonlychild_midpointrooted_prunedsubtree301.nwk\"\n",
    "tree_file = \"../data_Anc/DBDtree_fromcleaned.nwk\"\n",
    "tree = read_tree(tree_file, node_data_type = Seq);\n",
    "mus = [10. +  2*i for i in 1:10];\n",
    "@time PhyloTools.find_optimal_mu(tree_file, mus,Int.(start_msa[:,idx]), nat_msa, h, J; n_seq = 1000)\n",
    "\n",
    "#hom star or real\n",
    "n_pair = 5000; mu = 16. ; @time res = run_evolution_ontree(Int.(start_msa[:,idx]), tree_file, \n",
    "    h, J, mu = mu, p = 0.5);  msa = msa_from_leafs(res); f_nat = pair_dist_freq(nat_msa, \n",
    "    n_seq = n_pair); @time f_sim = pair_dist_freq(msa, n_seq = n_pair); check_pairwise(f_nat, f_sim, \"../pairwise_tree$(idx).png\"\n",
    "    ); check_energy(\"../dbd_en$(idx).png\", nat_msa, \n",
    "    Int8.(msa), h, J, w);\n",
    "\n"
   ]
  }
 ],
 "metadata": {
  "kernelspec": {
   "display_name": "Julia 1.10.0",
   "language": "julia",
   "name": "julia-1.10"
  },
  "language_info": {
   "file_extension": ".jl",
   "mimetype": "application/julia",
   "name": "julia",
   "version": "1.10.0"
  }
 },
 "nbformat": 4,
 "nbformat_minor": 5
}
